{
 "cells": [
  {
   "cell_type": "markdown",
   "id": "b1e7005f",
   "metadata": {},
   "source": [
    "# 19.1. What is an exception?\n",
    "An exception is a signal that a condition has occurred that can’t be easily handled using the normal flow-of-control of a Python program. Exceptions are often defined as being “errors” but this is not always the case. All errors in Python are dealt with using exceptions, but not all exceptions are errors.\n",
    "\n",
    "## 19.2. Exception Handling Flow-of-control\n",
    "To explain what an exception does, let’s review the normal “flow of control” in a Python program. In normal operation Python executes statements sequentially, one after the other. For three constructs, if-statements, loops and function invocations, this sequential execution is interrupted.\n",
    "\n",
    "- For if-statements, only one of several statement blocks is executed and then flow-of-control jumps to the first statement after the if-statement.\n",
    "\n",
    "- For loops, when the end of the loop is reached, flow-of-control jumps back to the start of the loop and a test is used to determine if the loop needs to execute again. If the loop is finished, flow-of-control jumps to the first statement after the loop.\n",
    "\n",
    "- For function invocations, flow-of-control jumps to the first statement in the called function, the function is executed, and the flow-of-control jumps back to the next statement after the function call.\n",
    "\n",
    "Do you see the pattern? If the flow-of-control is not purely sequential, it always executes the first statement immediately following the altered flow-of-control. That is why we can say that Python flow-of-control is sequential. But there are cases where this sequential flow-of-control does not work well.\n",
    "\n",
    "Exceptions provide us with way way to have a non-sequential point where we can handle something out of the ordinary (exceptional).\n",
    "\n",
    "## 19.2.1. Raising and Catching Errors\n",
    "The try/except control structure provides a way to process a run-time error and continue on with program execution. Until now, any run-time error, such asking for the 8th item in a list with only 3 items, or dividing by 0, has caused the program execution to stop. In the browser ActiveCode windows, you get an error message in a box below. When you are executing python programs from the command-line, you also get an error message saying something about what went wrong and what line it occurred on. After the run-time error is encountered, the python interpreter does not try to execute the rest of the code. You have to make some change in your code and rerun the whole program.\n",
    "\n",
    "With try/except, you tell the python interpreter:\n",
    "\n",
    "- **Try to execute a block of code, the “try” clause.**\n",
    "    - If the whole block of code executes without any run-time errors, just carry on with the rest of the program after the try/except statement.\n",
    "\n",
    "- **If a run-time error does occur during execution of the block of code:**\n",
    "    - skip the rest of that block of code (but don’t exit the whole program)\n",
    "\n",
    "    - execute a block of code in the “except” clause\n",
    "\n",
    "    - then carry on with the rest of the program after the try/except statement"
   ]
  },
  {
   "cell_type": "markdown",
   "id": "d8e86ffe",
   "metadata": {},
   "source": [
    "try:\n",
    "   <try clause code block>\n",
    "except <ErrorType>:\n",
    "   <exception handler code block>"
   ]
  },
  {
   "cell_type": "markdown",
   "id": "2523d686",
   "metadata": {},
   "source": [
    "The syntax is fairly straightforward. The only tricky part is that after the word except, there can optionally be a specification of the kinds of errors that will be handled. The catchall is the class Exception. If you write except Exception: all runtime errors will be handled. If you specify a more restricted class of errors, only those errors will be handled; any other kind of error will still cause the program to stop running and an error message to be printed.\n",
    "\n",
    "The code below causes an error of type IndexError, by trying to access the third element of a two-element list."
   ]
  },
  {
   "cell_type": "code",
   "execution_count": 18,
   "id": "1a82a20c",
   "metadata": {},
   "outputs": [
    {
     "ename": "IndexError",
     "evalue": "list index out of range",
     "output_type": "error",
     "traceback": [
      "\u001b[0;31m---------------------------------------------------------------------------\u001b[0m",
      "\u001b[0;31mIndexError\u001b[0m                                Traceback (most recent call last)",
      "Input \u001b[0;32mIn [18]\u001b[0m, in \u001b[0;36m<cell line: 2>\u001b[0;34m()\u001b[0m\n\u001b[1;32m      1\u001b[0m items \u001b[38;5;241m=\u001b[39m [\u001b[38;5;124m'\u001b[39m\u001b[38;5;124ma\u001b[39m\u001b[38;5;124m'\u001b[39m, \u001b[38;5;124m'\u001b[39m\u001b[38;5;124mb\u001b[39m\u001b[38;5;124m'\u001b[39m]\n\u001b[0;32m----> 2\u001b[0m third \u001b[38;5;241m=\u001b[39m \u001b[43mitems\u001b[49m\u001b[43m[\u001b[49m\u001b[38;5;241;43m2\u001b[39;49m\u001b[43m]\u001b[49m\n",
      "\u001b[0;31mIndexError\u001b[0m: list index out of range"
     ]
    }
   ],
   "source": [
    "items = ['a', 'b']\n",
    "third = items[2]"
   ]
  },
  {
   "cell_type": "markdown",
   "id": "03cd036c",
   "metadata": {},
   "source": [
    "The code below causes an error of type ZeroDivisionError, or less specifically ArithmeticError"
   ]
  },
  {
   "cell_type": "code",
   "execution_count": 19,
   "id": "5abd907f",
   "metadata": {},
   "outputs": [
    {
     "ename": "ZeroDivisionError",
     "evalue": "division by zero",
     "output_type": "error",
     "traceback": [
      "\u001b[0;31m---------------------------------------------------------------------------\u001b[0m",
      "\u001b[0;31mZeroDivisionError\u001b[0m                         Traceback (most recent call last)",
      "Input \u001b[0;32mIn [19]\u001b[0m, in \u001b[0;36m<cell line: 2>\u001b[0;34m()\u001b[0m\n\u001b[1;32m      1\u001b[0m x \u001b[38;5;241m=\u001b[39m \u001b[38;5;241m5\u001b[39m\n\u001b[0;32m----> 2\u001b[0m y \u001b[38;5;241m=\u001b[39m \u001b[43mx\u001b[49m\u001b[38;5;241;43m/\u001b[39;49m\u001b[38;5;241;43m0\u001b[39;49m\n",
      "\u001b[0;31mZeroDivisionError\u001b[0m: division by zero"
     ]
    }
   ],
   "source": [
    "x = 5\n",
    "y = x/0"
   ]
  },
  {
   "cell_type": "markdown",
   "id": "9df09d53",
   "metadata": {},
   "source": [
    "Let’s see what happens if we wrap some of this problematic code in a try/except statement. Note that this won't print doesn’t print: when the error is encountered, the rest of the try block is skipped and the exception block is executed. When the except block is done, it continues on with the next line of code that’s outdented to the same level as the try: continuing is printed."
   ]
  },
  {
   "cell_type": "code",
   "execution_count": 20,
   "id": "aef2877d",
   "metadata": {},
   "outputs": [
    {
     "name": "stdout",
     "output_type": "stream",
     "text": [
      "got an error\n",
      "continuing\n"
     ]
    }
   ],
   "source": [
    "try:\n",
    "    items = ['a', 'b']\n",
    "    third = items[2]\n",
    "    print(\"This won't print\")\n",
    "except Exception:\n",
    "    print(\"got an error\")\n",
    "\n",
    "print(\"continuing\")\n"
   ]
  },
  {
   "cell_type": "markdown",
   "id": "2a121de0",
   "metadata": {},
   "source": [
    "If we catch only IndexEror, and we actually have a divide by zero error, the program does stop executing."
   ]
  },
  {
   "cell_type": "code",
   "execution_count": 21,
   "id": "384f3777",
   "metadata": {},
   "outputs": [
    {
     "name": "stdout",
     "output_type": "stream",
     "text": [
      "error 1\n",
      "continuing\n"
     ]
    },
    {
     "ename": "ZeroDivisionError",
     "evalue": "division by zero",
     "output_type": "error",
     "traceback": [
      "\u001b[0;31m---------------------------------------------------------------------------\u001b[0m",
      "\u001b[0;31mZeroDivisionError\u001b[0m                         Traceback (most recent call last)",
      "Input \u001b[0;32mIn [21]\u001b[0m, in \u001b[0;36m<cell line: 10>\u001b[0;34m()\u001b[0m\n\u001b[1;32m     10\u001b[0m \u001b[38;5;28;01mtry\u001b[39;00m:\n\u001b[1;32m     11\u001b[0m     x \u001b[38;5;241m=\u001b[39m \u001b[38;5;241m5\u001b[39m\n\u001b[0;32m---> 12\u001b[0m     y \u001b[38;5;241m=\u001b[39m \u001b[43mx\u001b[49m\u001b[38;5;241;43m/\u001b[39;49m\u001b[38;5;241;43m0\u001b[39;49m\n\u001b[1;32m     13\u001b[0m     \u001b[38;5;28mprint\u001b[39m(\u001b[38;5;124m\"\u001b[39m\u001b[38;5;124mThis won\u001b[39m\u001b[38;5;124m'\u001b[39m\u001b[38;5;124mt print, either\u001b[39m\u001b[38;5;124m\"\u001b[39m)\n\u001b[1;32m     14\u001b[0m \u001b[38;5;28;01mexcept\u001b[39;00m \u001b[38;5;167;01mIndexError\u001b[39;00m:\n",
      "\u001b[0;31mZeroDivisionError\u001b[0m: division by zero"
     ]
    }
   ],
   "source": [
    "try:\n",
    "    items = ['a', 'b']\n",
    "    third = items[2]\n",
    "    print(\"This won't print\")\n",
    "except IndexError:\n",
    "    print(\"error 1\")\n",
    "\n",
    "print(\"continuing\")\n",
    "\n",
    "try:\n",
    "    x = 5\n",
    "    y = x/0\n",
    "    print(\"This won't print, either\")\n",
    "except IndexError:\n",
    "    print(\"error 2\")\n",
    "\n",
    "\n",
    "print(\"continuing again\")\n"
   ]
  },
  {
   "cell_type": "markdown",
   "id": "18643e70",
   "metadata": {},
   "source": [
    "# 19.3. 👩‍💻 When to use try/except\n",
    "The reason to use try/except is when you have a code block to execute that will sometimes run correctly and sometimes not, depending on conditions you can’t foresee at the time you’re writing the code.\n",
    "\n",
    "For example, when you are running code that fetches data from a website, you may run the code when you don’t have a network connection or when the external website is temporarily not responding. If your program can still do something useful in those situations, you would like to handle the exception and have the rest of your code execute.\n",
    "\n",
    "As another example, suppose you have fetched some nested data from a website into a dictionary d. When you try to extract specific elements, some may be missing: d may not include a particular key, for example. If you anticipate a particular key potentially not being present, you could write an if..else check to take care of it."
   ]
  },
  {
   "cell_type": "markdown",
   "id": "8a40498c",
   "metadata": {},
   "source": [
    "if somekey in d:\n",
    "    # it's there; extract the data\n",
    "    extract_data(d)\n",
    "else:\n",
    "    skip_this_one(d)"
   ]
  },
  {
   "cell_type": "markdown",
   "id": "4de8ae82",
   "metadata": {},
   "source": [
    "However, if you’re extracting lots of different data, it can get tedious to check for all of them. You can wrap all the data extraction in a try/except."
   ]
  },
  {
   "cell_type": "markdown",
   "id": "d2f5dc4a",
   "metadata": {},
   "source": [
    "try:\n",
    "    extract_data(d)\n",
    "except:\n",
    "    skip_this_one(d)"
   ]
  },
  {
   "cell_type": "markdown",
   "id": "ba0d8f8d",
   "metadata": {},
   "source": [
    "It’s considered poor practice to catch all exceptions this way. Instead, python provides a mechanism to specify just certain kinds of exceptions that you’ll catch (for example, just catching exceptions of type KeyError, which happens when a key is missing from a dictionary."
   ]
  },
  {
   "cell_type": "markdown",
   "id": "d403db64",
   "metadata": {},
   "source": [
    "try:\n",
    "    extract_data(d)\n",
    "except KeyError:\n",
    "    skip_this_one(d)"
   ]
  },
  {
   "cell_type": "markdown",
   "id": "cb420fb0",
   "metadata": {},
   "source": [
    "We won’t go into more details of exception handling in this introductory course. Check out the official python tutorial section on error handling if you’re interested."
   ]
  },
  {
   "cell_type": "markdown",
   "id": "d23515f6",
   "metadata": {},
   "source": [
    "# 19.4. Standard Exceptions\n",
    "Most of the standard exceptions built into Python are listed below. They are organized into related groups based on the types of issues they deal with.\n",
    "\n",
    "**Language Exceptions**\n",
    "\n",
    "StandardError: Base class for all built-in exceptions except StopIteration and SystemExit.\n",
    "\n",
    "ImportError: Raised when an import statement fails.\n",
    "\n",
    "SyntaxError: Raised when there is an error in Python syntax.\n",
    "\n",
    "IndentationError: Raised when indentation is not specified properly.\n",
    "\n",
    "NameError: Raised when an identifier is not found in the local or global namespace.\n",
    "\n",
    "UnboundLocalError: Raised when trying to access a local variable in a function or method but no value has been assigned to it.\n",
    "\n",
    "TypeError: Raised when an operation or function is attempted that is invalid for the specified data type.\n",
    "\n",
    "LookupError: Base class for all lookup errors.\n",
    "\n",
    "IndexError: Raised when an index is not found in a sequence.\n",
    "\n",
    "KeyError: Raised when the specified key is not found in the dictionary.\n",
    "\n",
    "ValueError: Raised when the built-in function for a data type has the valid type of arguments, but the arguments have invalid values specified.\n",
    "\n",
    "RuntimeError: Raised when a generated error does not fall into any category.\n",
    "\n",
    "MemoryError: Raised when a operation runs out of memory.\n",
    "\n",
    "RecursionError: Raised when the maximum recursion depth has been exceeded.\n",
    "\n",
    "SystemError: Raised when the interpreter finds an internal problem, but when this error is encountered the Python interpreter does not exit.\n",
    "\n",
    "**Math Exceptions**\n",
    "\n",
    "ArithmeticError: Base class for all errors that occur for numeric calculation. You know a math error occurred, but you don’t know the specific error.\n",
    "\n",
    "OverflowError: Raised when a calculation exceeds maximum limit for a numeric type.\n",
    "\n",
    "FloatingPointError: Raised when a floating point calculation fails.\n",
    "\n",
    "ZeroDivisonError: Raised when division or modulo by zero takes place for all numeric types.\n",
    "\n",
    "**I/O Exceptions**\n",
    "\n",
    "FileNotFoundError: Raised when a file or directory is requested but doesn’t exist.\n",
    "\n",
    "IOError: Raised when an input/ output operation fails, such as the print statement or the open() function when trying to open a file that does not exist. Also raised for operating system-related errors.\n",
    "\n",
    "PermissionError: Raised when trying to run an operation without the adequate access rights.\n",
    "\n",
    "EOFError: Raised when there is no input from either the raw_input() or input() function and the end of file is reached.\n",
    "\n",
    "KeyboardInterrupt: Raised when the user interrupts program execution, usually by pressing Ctrl+c.\n",
    "\n",
    "**Other Exceptions**\n",
    "\n",
    "Exception: Base class for all exceptions. This catches most exception messages.\n",
    "\n",
    "StopIteration: Raised when the next() method of an iterator does not point to any object.\n",
    "\n",
    "AssertionError: Raised in case of failure of the Assert statement.\n",
    "\n",
    "SystemExit: Raised when Python interpreter is quit by using the sys.exit() function. If not handled in the code, it causes the interpreter to exit.\n",
    "\n",
    "OSError: Raises for operating system related errors.\n",
    "\n",
    "EnvironmentError: Base class for all exceptions that occur outside the Python environment.\n",
    "\n",
    "AttributeError: Raised in case of failure of an attribute reference or assignment.\n",
    "\n",
    "NotImplementedError: Raised when an abstract method that needs to be implemented in an inherited class is not actually implemented.\n",
    "\n",
    "All exceptions are objects. The classes that define the objects are organized in a hierarchy, which is shown below. This is important because the parent class of a set of related exceptions will catch all exception messages for itself and its child exceptions. For example, an ArithmeticError exception will catch itself and all FloatingPointError, OverflowError, and ZeroDivisionError exceptions."
   ]
  },
  {
   "cell_type": "code",
   "execution_count": null,
   "id": "8e122e55",
   "metadata": {},
   "outputs": [],
   "source": []
  }
 ],
 "metadata": {
  "kernelspec": {
   "display_name": "Python 3 (ipykernel)",
   "language": "python",
   "name": "python3"
  },
  "language_info": {
   "codemirror_mode": {
    "name": "ipython",
    "version": 3
   },
   "file_extension": ".py",
   "mimetype": "text/x-python",
   "name": "python",
   "nbconvert_exporter": "python",
   "pygments_lexer": "ipython3",
   "version": "3.9.12"
  }
 },
 "nbformat": 4,
 "nbformat_minor": 5
}
