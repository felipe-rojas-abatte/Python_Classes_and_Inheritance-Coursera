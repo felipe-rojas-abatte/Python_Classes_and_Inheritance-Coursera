{
 "cells": [
  {
   "cell_type": "markdown",
   "id": "0f600aa3",
   "metadata": {},
   "source": [
    "# 18.1. Introduction: Test Cases\n",
    "A test case expresses requirements for a program, in a way that can be checked automatically. Specifically, a test asserts something about the state of the program at a particular point in its execution.\n",
    "\n",
    "We have previously suggested that it’s a good idea to first write down comments about what your code is supposed to do, before actually writing the code. It is an even better idea to write down some test cases before writing a program.\n",
    "\n",
    "There are several reasons why it’s a good habit to write test cases.\n",
    "\n",
    "- Before we write code, we have in mind what it should do, but those thoughts may be a little vague. Writing down test cases forces us to be more concrete about what should happen.\n",
    "\n",
    "- As we write the code, the test cases can provide automated feedback. You’ve actually been the beneficiary of such automated feedback via test cases throughout this book in some of the activecode windows and almost all of the exercises. We wrote the code for those test cases but kept it hidden, so as not to confuse you and also to avoid giving away the answers. You can get some of the same benefit from writing your own test cases.\n",
    "\n",
    "- In larger software projects, the set of test cases can be run every time a change is made to the code base. **Unit tests** check that small bits of code are correctly implemented. **Functional tests** check that larger chunks of code work correctly. Running the tests can help to identify situations where a change in code in one place breaks the correct operation of some other code. We won’t see that advantage of test cases in this textbook, but keep in mind that this introduction to test cases is setting the stage for an essential software engineering practice if you are participating in a larger software development project.\n",
    "\n",
    "Now it’s time to learn how to write code for test cases.\n",
    "\n",
    "Python provides a statement called assert.\n",
    "\n",
    "- Following the word assert there will be a python expression.\n",
    "\n",
    "- If that expression evaluates to the Boolean False, then the interpreter will raise a runtime error.\n",
    "\n",
    "- If the expression evaluates to True, then nothing happens and the execution goes on to the next line of code.\n",
    "\n",
    "Why would you ever want to write a line of code that can never compute anything useful for you, but sometimes causes a runtime error? For all the reasons we described above about the value of automated tests. You want a test that will alert that you that some condition you assumed was true is not in fact true. It’s much better to be alerted to that fact right away than to have some unexpected result much later in your program execution, which you will have trouble tracing to the place where you had an error in your code.\n",
    "\n",
    "Why doesn’t assert print out something saying that the test passed? The reason is that you don’t want to clutter up your output window with the results of automated tests that pass. You just want to know when one of your tests fails. In larger projects, other testing harnesses are used instead of assert, such as the python unittest module. Those provide some output summarizing tests that have passed as well as those that failed. In this textbook, we will just use simple assert statements for automated tests.\n",
    "\n",
    "To write a test, we must know what we expect some value to be at a particular point in the program’s execution. In the rest of the chapter, we’ll see some examples of assert statements and ideas for what kinds of assertions one might want to add in one’s programs."
   ]
  },
  {
   "cell_type": "markdown",
   "id": "efd2db70",
   "metadata": {},
   "source": [
    "# 18.2. Checking Assumptions About Data Types\n",
    "Unlike some other programming languages, the python interpreter does not enforce restrictions about the data types of objects that can be bound to particular variables. For example, in java, before assigning a value to a variable, the program would include a declaration of what type of value (integer, float, Boolean, etc.) that the variable is allowed to hold. The variable x in a python program can be bound to an integer at one point and to a list at some other point in the program execution.\n",
    "\n",
    "That flexibility makes it easier to get started with programming in python. Sometimes, however, type checking could alert us that something has gone wrong in our program execution. If we are assuming at that x is a list, but it’s actually an integer, then at some point later in the program execution, there will probably be an error. We can add assert statements that will cause an error to be flagged sooner rather than later, which might make it a lot easier to debug.\n",
    "\n",
    "In the code below, we explicitly state some natural assumptions about how truncated division might work in python. It turns out that the second asumption is wrong: 9.0//5 produces 2.0, a floating point value!"
   ]
  },
  {
   "cell_type": "code",
   "execution_count": null,
   "id": "66667b0b",
   "metadata": {},
   "outputs": [],
   "source": [
    "assert type(9//5) == int\n",
    "assert type(9.0//5) == int"
   ]
  },
  {
   "cell_type": "markdown",
   "id": "c59845b4",
   "metadata": {},
   "source": [
    "In the code below, lst is bound to a list object. In python, not all the elements of a list have to be of the same type. We can check that they all have the same type and get an error if they are not. Notice that with lst2, one of the assertions fails."
   ]
  },
  {
   "cell_type": "code",
   "execution_count": null,
   "id": "7f99331d",
   "metadata": {},
   "outputs": [],
   "source": [
    "lst = ['a', 'b', 'c']\n",
    "\n",
    "first_type = type(lst[0])\n",
    "for item in lst:\n",
    "    assert type(item) == first_type\n",
    "\n",
    "lst2 = ['a', 'b', 'c', 17]\n",
    "first_type = type(lst2[0])\n",
    "for item in lst2:\n",
    "    assert type(item) == first_type\n"
   ]
  },
  {
   "cell_type": "markdown",
   "id": "7af8c0ac",
   "metadata": {},
   "source": [
    "# 18.3. Checking Other Assumptions\n",
    "We can also check other assumptions about the values of variables, in addition to their types. For example, we could check that a list has fewer than 10 items."
   ]
  },
  {
   "cell_type": "code",
   "execution_count": 2,
   "id": "eb0a2280",
   "metadata": {},
   "outputs": [],
   "source": [
    "lst = ['a', 'b', 'c']\n",
    "assert len(lst) < 10"
   ]
  },
  {
   "cell_type": "markdown",
   "id": "f4e5a429",
   "metadata": {},
   "source": [
    "# 18.4. Testing Conditionals\n",
    "Ideally, you want tests that will cover both the typical execution of your program and tests for unusual things that might happen, which are called **edge cases**.\n",
    "\n",
    "If the code has conditional blocks (if..elif..else) then you’ll want to have tests that check that the right block executes when you expect it to. For example, in the code below, z is set to the smaller of x and y, but if they are equal then we set z to 0. Our code even includes a comment to help us keep track of when we think the final code block should execute."
   ]
  },
  {
   "cell_type": "markdown",
   "id": "f6a1ee75",
   "metadata": {},
   "source": [
    "if x < y:\n",
    "    z = x\n",
    "else:\n",
    "    if x > y:\n",
    "        z = y\n",
    "    else:\n",
    "        ## x must be equal to y\n",
    "        z = 0"
   ]
  },
  {
   "cell_type": "markdown",
   "id": "cfa66727",
   "metadata": {},
   "source": [
    "When you start to have complex conditionals, it’s helpful to add comments like that, and once you do you might as well add an assert statement. If the assert ever causes an error, you’ll be grateful to know right away that something has gone wrong and you’ll have a good start on where to look for debugging. In this case, you’ll never get an error, no matter the values of x and y."
   ]
  },
  {
   "cell_type": "code",
   "execution_count": 4,
   "id": "0fa2916e",
   "metadata": {},
   "outputs": [],
   "source": [
    "x = 3\n",
    "y = 4\n",
    "if x < y:\n",
    "    z = x\n",
    "else:\n",
    "    if x > y:\n",
    "        z = y\n",
    "    else:\n",
    "        ## x must be equal to y\n",
    "        assert x==y\n",
    "        z = 0\n"
   ]
  },
  {
   "cell_type": "markdown",
   "id": "cb4dfd91",
   "metadata": {},
   "source": [
    "# 18.5. Testing Loops\n",
    "With a for loop, the edge cases might include iterating over an empty list or string, or iterating over a list with different kinds of contents.\n",
    "\n",
    "For example, suppose we have a code snippet that is supposed to accumulate the sum of all the numbers in a list, lst, whose value was set sometime before this code snippet is run. If you’ve already learned how to define functions, you can imagine this code snippet inside a function definition.\n",
    "\n",
    "When lst is [1, 5, 8], the value at the end should be 14."
   ]
  },
  {
   "cell_type": "code",
   "execution_count": 5,
   "id": "da5fab46",
   "metadata": {},
   "outputs": [],
   "source": [
    "nums = [1, 5, 8]\n",
    "\n",
    "accum = 0\n",
    "for w in nums:\n",
    "    accum = accum + w\n",
    "assert accum == 14"
   ]
  },
  {
   "cell_type": "markdown",
   "id": "ee2bf9af",
   "metadata": {},
   "source": [
    "But what about when lst is an empty list? Maybe we want to assert that the value should be 0, in which case our current accumulation works fine. But suppose we wanted it to be some other value, perhaps the special python value None. By writing an assert statement, we can be alerted that our code doesn’t produce the answer we wanted…"
   ]
  },
  {
   "cell_type": "code",
   "execution_count": 6,
   "id": "45fcd23a",
   "metadata": {},
   "outputs": [
    {
     "ename": "AssertionError",
     "evalue": "",
     "output_type": "error",
     "traceback": [
      "\u001b[0;31m---------------------------------------------------------------------------\u001b[0m",
      "\u001b[0;31mAssertionError\u001b[0m                            Traceback (most recent call last)",
      "Input \u001b[0;32mIn [6]\u001b[0m, in \u001b[0;36m<cell line: 6>\u001b[0;34m()\u001b[0m\n\u001b[1;32m      4\u001b[0m \u001b[38;5;28;01mfor\u001b[39;00m w \u001b[38;5;129;01min\u001b[39;00m nums:\n\u001b[1;32m      5\u001b[0m     accum \u001b[38;5;241m=\u001b[39m accum \u001b[38;5;241m+\u001b[39m w\n\u001b[0;32m----> 6\u001b[0m \u001b[38;5;28;01massert\u001b[39;00m accum \u001b[38;5;241m==\u001b[39m \u001b[38;5;28;01mNone\u001b[39;00m\n",
      "\u001b[0;31mAssertionError\u001b[0m: "
     ]
    }
   ],
   "source": [
    "nums = []\n",
    "\n",
    "accum = 0\n",
    "for w in nums:\n",
    "    accum = accum + w\n",
    "assert accum == None"
   ]
  },
  {
   "cell_type": "markdown",
   "id": "17046433",
   "metadata": {},
   "source": [
    "…and then we can fix our accumulator code"
   ]
  },
  {
   "cell_type": "code",
   "execution_count": 7,
   "id": "9840ef55",
   "metadata": {},
   "outputs": [],
   "source": [
    "nums = []\n",
    "\n",
    "if len(nums) == 0:\n",
    "   accum = None\n",
    "else:\n",
    "   accum = 0\n",
    "   for w in nums:\n",
    "       accum = accum + w\n",
    "assert accum == None"
   ]
  },
  {
   "cell_type": "markdown",
   "id": "1e76bb4c",
   "metadata": {},
   "source": [
    "# 18.6. Writing Test Cases for Functions\n",
    "It is a good idea to write one or more test cases for each function that you define.\n",
    "\n",
    "A function defines an operation that can be performed. If the function takes one or more parameters, it is supposed to work properly on a variety of possible inputs. Each test case will check whether the function works properly on **one set of possible inputs**.\n",
    "\n",
    "A useful function will do some combination of three things, given its input parameters:\n",
    "\n",
    "- Return a value. For these, you will write **return value tests.**\n",
    "\n",
    "- Modify the contents of some mutable object, like a list or dictionary. For these you will write **side effect tests.**\n",
    "\n",
    "- Print something or write something to a file. Tests of whether a function generates the right printed output are beyond the scope of this testing framework; you won’t write these tests.\n",
    "\n",
    "## 18.6.1. Return Value Tests\n",
    "Testing whether a function returns the correct value is the easiest test case to define. You simply check whether the result of invoking the function on a particular input produces the particular output that you expect. If f is your function, and you think that it should transform inputs x and y into output z, then you could write a test as assert f(x, y) == z. Or, to give a more concrete example, if you have a function square, you could have a test case assert square(3) ==  9. Call this a **return value test.**\n",
    "\n",
    "Because each test checks whether a function works properly on specific inputs, the test cases will never be complete: in principle, a function might work properly on all the inputs that are tested in the test cases, but still not work properly on some other inputs. That’s where the art of defining test cases comes in: you try to find specific inputs that are representative of all the important kinds of inputs that might ever be passed to the function.\n",
    "\n",
    "The first test case that you define for a function should be an “easy” case, one that is prototypical of the kinds of inputs the function is supposed to handle. Additional test cases should handle “extreme” or unusual inputs, sometimes called **edge cases**. For example, if you are defining the “square” function, the first, easy case, might be an input like 3. Additional extreme or unusual inputs around which you create test cases might be a negative number, 0, and a floating point number.\n",
    "\n",
    "One way to think about how to generate edge cases is to think in terms of **equivalence classes** of the different kinds of inputs the function might get. For example, the input to the square function could be either positive or negative. We then choose an input from each of these classes. **It is important to have at least one test for each equivalence class of inputs.**\n",
    "\n",
    "Semantic errors are often caused by improperly handling the boundaries between equivalence classes. The boundary for this problem is zero. **It is important to have a test at each boundary.**\n",
    "\n",
    "Another way to think about edge cases is to imagine things that could go wrong in the implementation. For example, in the square function we might mistakenly use addition instead of multiplication. Thus, we shouldn’t rely on a test that uses 2 as input, but we might be fooled into thinking it was working when it produced an output of 4, when it was really doubling rather than squaring."
   ]
  },
  {
   "cell_type": "markdown",
   "id": "c1694bdb",
   "metadata": {},
   "source": [
    "## 18.6.2. Side Effect Tests\n",
    "To test whether a function makes correct changes to a mutable object, you will need more than one line of code. You will first set the mutable object to some value, then run the function, then check whether the object has the expected value. Call this a **side effect test** because you are checking to see whether the function invocation has had the correct side effect on the mutable object.\n",
    "\n",
    "An example follows, testing the update_counts function (which is deliberately implemented incorrectly…). This function takes a string called letters and updates the counts in counts_diction that are associated with each character in the string. To do a side effect test, we first create a dictionary with initial counts for some letters. Then we invoke the function. Then we test that the dictionary has the correct counts for some letters (those correct counts are computed manually when we write the test. We have to know what the correct answer should be in order to write a test). You can think of it like writing a small exam for your code – we would not give you an exam without knowing the answers ourselves."
   ]
  },
  {
   "cell_type": "code",
   "execution_count": null,
   "id": "a3a38ab5",
   "metadata": {},
   "outputs": [],
   "source": [
    "def update_counts(letters, counts_d):\n",
    "    for c in letters:\n",
    "        counts_d[c] = 1\n",
    "        if c in counts_d:\n",
    "            counts_d[c] = counts_d[c] + 1\n",
    "\n",
    "\n",
    "counts = {'a': 3, 'b': 2}\n",
    "update_counts(\"aaab\", counts)\n",
    "# 3 more occurrences of a, so 6 in all\n",
    "assert counts['a'] == 6\n",
    "# 1 more occurrence of b, so 3 in all\n",
    "assert counts['b'] == 3\n"
   ]
  },
  {
   "cell_type": "markdown",
   "id": "aa87a48b",
   "metadata": {},
   "source": [
    "## 18.7. Testing Optional Parameters\n",
    "If a function takes an optional parameter, one of the edge cases to test for is when no parameter value is supplied during execution. Below are some tests for the built-in sorted function."
   ]
  },
  {
   "cell_type": "code",
   "execution_count": 9,
   "id": "961f419c",
   "metadata": {},
   "outputs": [],
   "source": [
    "assert sorted([1, 7, 4]) == [1, 4, 7]\n",
    "assert sorted([1, 7, 4], reverse=True) == [7, 4, 1]"
   ]
  },
  {
   "cell_type": "markdown",
   "id": "89211ef1",
   "metadata": {},
   "source": [
    "## 18.8. 👩‍💻 Program Development\n",
    "At this point, you should be able to look at complete functions and tell what they do. Also, if you have been doing the exercises, you have written some small functions. As you write larger functions, you might start to have more difficulty, especially with runtime and semantic errors.\n",
    "\n",
    "To deal with increasingly complex programs, we are going to suggest a technique called **incremental development.** The goal of incremental development is to avoid long debugging sessions by adding and testing only a small amount of code at a time.\n",
    "\n",
    "**If you write unit tests before doing the incremental development, you will be able to track your progress as the code passes more and more of the tests. Alternatively, you can write additional tests at each stage of incremental development.**\n",
    "Then you will be able to check whether any code change you make at a later stage of development causes one of the earlier tests, which used to pass, to not pass any more.\n",
    "\n",
    "As an example, suppose you want to find the distance between two points, given by the coordinates (x1, y1) and (x2, y2). By the Pythagorean theorem, the distance is:\n",
    "\n",
    "distance = sqrt( (x2-x1)^2 + (y2-y1)^2 )\n",
    "\n",
    "Distance formula\n",
    "The first step is to consider what a distance function should look like in Python. In other words, what are the inputs (parameters) and what is the output (return value)?\n",
    "\n",
    "In this case, the two points are the inputs, which we can represent using four parameters. The return value is the distance, which is a floating-point value.\n",
    "\n",
    "Already we can write an outline of the function that captures our thinking so far."
   ]
  },
  {
   "cell_type": "code",
   "execution_count": 10,
   "id": "2d6e774e",
   "metadata": {},
   "outputs": [],
   "source": [
    "def distance(x1, y1, x2, y2):\n",
    "    return None"
   ]
  },
  {
   "cell_type": "markdown",
   "id": "c8704532",
   "metadata": {},
   "source": [
    "Obviously, this version of the function doesn’t compute distances; it always returns None. But it is syntactically correct, and it will run, which means that we can test it before we make it more complicated.\n",
    "\n",
    "The distance between any point and itself should be 0."
   ]
  },
  {
   "cell_type": "code",
   "execution_count": 11,
   "id": "07aae1ad",
   "metadata": {},
   "outputs": [
    {
     "ename": "AssertionError",
     "evalue": "",
     "output_type": "error",
     "traceback": [
      "\u001b[0;31m---------------------------------------------------------------------------\u001b[0m",
      "\u001b[0;31mAssertionError\u001b[0m                            Traceback (most recent call last)",
      "Input \u001b[0;32mIn [11]\u001b[0m, in \u001b[0;36m<cell line: 4>\u001b[0;34m()\u001b[0m\n\u001b[1;32m      1\u001b[0m \u001b[38;5;28;01mdef\u001b[39;00m \u001b[38;5;21mdistance\u001b[39m(x1, y1, x2, y2):\n\u001b[1;32m      2\u001b[0m     \u001b[38;5;28;01mreturn\u001b[39;00m \u001b[38;5;28;01mNone\u001b[39;00m\n\u001b[0;32m----> 4\u001b[0m \u001b[38;5;28;01massert\u001b[39;00m distance(\u001b[38;5;241m1\u001b[39m, \u001b[38;5;241m2\u001b[39m, \u001b[38;5;241m1\u001b[39m, \u001b[38;5;241m2\u001b[39m) \u001b[38;5;241m==\u001b[39m \u001b[38;5;241m0\u001b[39m\n",
      "\u001b[0;31mAssertionError\u001b[0m: "
     ]
    }
   ],
   "source": [
    "def distance(x1, y1, x2, y2):\n",
    "    return None\n",
    "\n",
    "assert distance(1, 2, 1, 2) == 0"
   ]
  },
  {
   "cell_type": "markdown",
   "id": "04ed2c87",
   "metadata": {},
   "source": [
    "We call the distance function with sample inputs: (1,2, 1,2). The first 1,2 are the coordinates of the first point and the second 1,2 are the coordinates of the second point. What is the distance between these two points? Zero.\n",
    "\n",
    "It’s not returning the correct answer, so we don’t pass the test. Let’s fix that."
   ]
  },
  {
   "cell_type": "code",
   "execution_count": 12,
   "id": "e5dc6f96",
   "metadata": {},
   "outputs": [],
   "source": [
    "def distance(x1, y1, x2, y2):\n",
    "    return 0.0\n",
    "\n",
    "assert distance(1, 2, 1, 2) == 0"
   ]
  },
  {
   "cell_type": "markdown",
   "id": "0d968525",
   "metadata": {},
   "source": [
    "Now we pass the test. But really, that’s not a sufficient test.\n",
    "\n",
    "**When testing a function, it is essential to know the right answer.**\n",
    "\n",
    "For the second test the horizontal distance equals 3 and the vertical distance equals 4; that way, the result is 5 (the hypotenuse of a 3-4-5 triangle). For the third test, we have a 1-1-sqrt(2) triangle."
   ]
  },
  {
   "cell_type": "code",
   "execution_count": 14,
   "id": "00961f2f",
   "metadata": {},
   "outputs": [
    {
     "ename": "AssertionError",
     "evalue": "",
     "output_type": "error",
     "traceback": [
      "\u001b[0;31m---------------------------------------------------------------------------\u001b[0m",
      "\u001b[0;31mAssertionError\u001b[0m                            Traceback (most recent call last)",
      "Input \u001b[0;32mIn [14]\u001b[0m, in \u001b[0;36m<cell line: 5>\u001b[0;34m()\u001b[0m\n\u001b[1;32m      2\u001b[0m     \u001b[38;5;28;01mreturn\u001b[39;00m \u001b[38;5;241m0\u001b[39m\n\u001b[1;32m      4\u001b[0m \u001b[38;5;28;01massert\u001b[39;00m distance(\u001b[38;5;241m1\u001b[39m, \u001b[38;5;241m2\u001b[39m, \u001b[38;5;241m1\u001b[39m, \u001b[38;5;241m2\u001b[39m) \u001b[38;5;241m==\u001b[39m \u001b[38;5;241m0\u001b[39m\n\u001b[0;32m----> 5\u001b[0m \u001b[38;5;28;01massert\u001b[39;00m distance(\u001b[38;5;241m1\u001b[39m,\u001b[38;5;241m2\u001b[39m, \u001b[38;5;241m4\u001b[39m,\u001b[38;5;241m6\u001b[39m) \u001b[38;5;241m==\u001b[39m \u001b[38;5;241m5\u001b[39m\n\u001b[1;32m      6\u001b[0m \u001b[38;5;28;01massert\u001b[39;00m distance(\u001b[38;5;241m0\u001b[39m,\u001b[38;5;241m0\u001b[39m, \u001b[38;5;241m1\u001b[39m,\u001b[38;5;241m1\u001b[39m) \u001b[38;5;241m==\u001b[39m \u001b[38;5;241m2\u001b[39m\u001b[38;5;241m*\u001b[39m\u001b[38;5;241m*\u001b[39m\u001b[38;5;241m0.5\u001b[39m\n",
      "\u001b[0;31mAssertionError\u001b[0m: "
     ]
    }
   ],
   "source": [
    "def distance(x1, y1, x2, y2):\n",
    "    return 0\n",
    "\n",
    "assert distance(1, 2, 1, 2) == 0\n",
    "assert distance(1,2, 4,6) == 5\n",
    "assert distance(0,0, 1,1) == 2**0.5"
   ]
  },
  {
   "cell_type": "markdown",
   "id": "2a38745a",
   "metadata": {},
   "source": [
    "The first test passes but the others fail since the distance function does not yet contain all the necessary steps.\n",
    "\n",
    "At this point we have confirmed that the function is syntactically correct, and we can start adding lines of code. After each incremental change, we test the function again. If an error occurs at any point, we know where it must be — in the last line we added.\n",
    "\n",
    "A logical first step in the computation is to find the differences x2- x1 and y2- y1. We will store those values in temporary variables named dx and dy."
   ]
  },
  {
   "cell_type": "code",
   "execution_count": 15,
   "id": "70a69bc9",
   "metadata": {},
   "outputs": [],
   "source": [
    "def distance(x1, y1, x2, y2):\n",
    "    dx = x2 - x1\n",
    "    dy = y2 - y1\n",
    "    dsquared = dx**2 + dy**2\n",
    "    return 0.0"
   ]
  },
  {
   "cell_type": "markdown",
   "id": "4476166e",
   "metadata": {},
   "source": [
    "Again, we could run the program at this stage and check the value of dsquared (which should be 25).\n",
    "\n",
    "Finally, using the fractional exponent 0.5 to find the square root, we compute and return the result."
   ]
  },
  {
   "cell_type": "code",
   "execution_count": 17,
   "id": "2e2ef39a",
   "metadata": {},
   "outputs": [],
   "source": [
    "def distance(x1, y1, x2, y2):\n",
    "    dx = x2 - x1\n",
    "    dy = y2 - y1\n",
    "    dsquared = dx**2 + dy**2\n",
    "    result = dsquared**0.5\n",
    "    return result\n",
    "\n",
    "assert distance(1, 2, 1, 2) == 0\n",
    "assert distance(1,2, 4,6) == 5\n",
    "assert distance(0,0, 1,1) == 2**0.5"
   ]
  },
  {
   "cell_type": "markdown",
   "id": "a28c68d5",
   "metadata": {},
   "source": [
    "When you start out, you might add only a line or two of code at a time. As you gain more experience, you might find yourself writing and debugging bigger conceptual chunks. As you improve your programming skills you should find yourself managing bigger and bigger chunks: this is very similar to the way we learned to read letters, syllables, words, phrases, sentences, paragraphs, etc., or the way we learn to chunk music — from individual notes to chords, bars, phrases, and so on.\n",
    "\n",
    "The key aspects of the process are:\n",
    "\n",
    "Make sure you know what you are trying to accomplish. Then you can write appropriate unit tests.\n",
    "\n",
    "Start with a working skeleton program and make small incremental changes. At any point, if there is an error, you will know exactly where it is.\n",
    "\n",
    "Use temporary variables to hold intermediate values so that you can easily inspect and check them.\n",
    "\n",
    "Once the program is working, you might want to consolidate multiple statements into compound expressions, but only do this if it does not make the program more difficult to read."
   ]
  },
  {
   "cell_type": "code",
   "execution_count": null,
   "id": "05e87eb2",
   "metadata": {},
   "outputs": [],
   "source": []
  }
 ],
 "metadata": {
  "kernelspec": {
   "display_name": "Python 3 (ipykernel)",
   "language": "python",
   "name": "python3"
  },
  "language_info": {
   "codemirror_mode": {
    "name": "ipython",
    "version": 3
   },
   "file_extension": ".py",
   "mimetype": "text/x-python",
   "name": "python",
   "nbconvert_exporter": "python",
   "pygments_lexer": "ipython3",
   "version": "3.9.12"
  }
 },
 "nbformat": 4,
 "nbformat_minor": 5
}
