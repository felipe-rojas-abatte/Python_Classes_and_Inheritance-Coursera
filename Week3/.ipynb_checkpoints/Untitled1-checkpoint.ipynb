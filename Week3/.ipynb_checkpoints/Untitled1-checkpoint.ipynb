{
 "cells": [
  {
   "cell_type": "markdown",
   "id": "9628bfa4",
   "metadata": {},
   "source": [
    "# 18.9. Glossary\n",
    "\n",
    "**return value test**\n",
    "A return value test invokes a function on a particular set of inputs and checks whether the return value is the correct one for those inputs.\n",
    "\n",
    "**side effect test**\n",
    "A side effect test invokes a function or method and then checks whether some object’s contents were suitably transformed by the end of the execution of the function or method.\n",
    "\n",
    "**test case**\n",
    "An assertion about the state of the program at particular point in its execution, such as the type of a variable or of a value returned by a function."
   ]
  },
  {
   "cell_type": "code",
   "execution_count": null,
   "id": "424ace9e",
   "metadata": {},
   "outputs": [],
   "source": []
  }
 ],
 "metadata": {
  "kernelspec": {
   "display_name": "Python 3 (ipykernel)",
   "language": "python",
   "name": "python3"
  },
  "language_info": {
   "codemirror_mode": {
    "name": "ipython",
    "version": 3
   },
   "file_extension": ".py",
   "mimetype": "text/x-python",
   "name": "python",
   "nbconvert_exporter": "python",
   "pygments_lexer": "ipython3",
   "version": "3.9.12"
  }
 },
 "nbformat": 4,
 "nbformat_minor": 5
}
