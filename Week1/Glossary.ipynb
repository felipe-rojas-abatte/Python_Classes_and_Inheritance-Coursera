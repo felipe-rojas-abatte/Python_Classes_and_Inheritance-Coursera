{
 "cells": [
  {
   "cell_type": "markdown",
   "id": "8fa26ac6",
   "metadata": {},
   "source": [
    "## 20.14. Glossary\n",
    "**attribute**\n",
    "One of the named data items that makes up an instance.\n",
    "\n",
    "**class**\n",
    "A user-defined compound type. A class can also be thought of as a template for the objects that are instances of it.\n",
    "\n",
    "**constructor**\n",
    "Every class has a “factory”, called by the same name as the class, for making new instances. If the class has an initializer method, this method is used to get the attributes (i.e. the state) of the new object properly set up.\n",
    "\n",
    "**initializer method**\n",
    "A special method in Python (called __init__) that is invoked automatically to set a newly created object’s attributes to their initial (factory-default) state.\n",
    "\n",
    "**instance**\n",
    "An object whose type is of some class. The words instance and object are used interchangeably.\n",
    "\n",
    "**instance variable**\n",
    "A variable that stores a value associated with the instance. The instance variables together store the state of an instance.\n",
    "\n",
    "**instantiate**\n",
    "To create an instance of a class, and to run its initializer.\n",
    "\n",
    "**method**\n",
    "A function that is defined inside a class definition and is invoked on instances of that class.\n",
    "\n",
    "**object**\n",
    "A compound data type that is often used to model a thing or concept in the real world. It bundles together the data and the operations that are relevant for that kind of data. Instance and object are used interchangeably.\n",
    "\n",
    "**object-oriented programming**\n",
    "A powerful style of programming in which data and the operations that manipulate it are organized into classes and methods.\n",
    "\n",
    "**object-oriented language**\n",
    "A language that provides features, such as user-defined classes and inheritance, that facilitate object-oriented programming."
   ]
  },
  {
   "cell_type": "code",
   "execution_count": null,
   "id": "8e9a7b13",
   "metadata": {},
   "outputs": [],
   "source": []
  }
 ],
 "metadata": {
  "kernelspec": {
   "display_name": "Python 3 (ipykernel)",
   "language": "python",
   "name": "python3"
  },
  "language_info": {
   "codemirror_mode": {
    "name": "ipython",
    "version": 3
   },
   "file_extension": ".py",
   "mimetype": "text/x-python",
   "name": "python",
   "nbconvert_exporter": "python",
   "pygments_lexer": "ipython3",
   "version": "3.9.12"
  }
 },
 "nbformat": 4,
 "nbformat_minor": 5
}
