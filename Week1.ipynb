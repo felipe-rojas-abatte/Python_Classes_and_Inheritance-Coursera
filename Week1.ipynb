{
 "cells": [
  {
   "cell_type": "markdown",
   "id": "9bb5e473",
   "metadata": {},
   "source": [
    "# 20.1. Introduction: Classes and Objects - the Basics\n",
    "## 20.1.1. Object-oriented programming\n",
    "Python is an object-oriented programming language. That means it provides features that support object-oriented programming (OOP).\n",
    "\n",
    "Object-oriented programming has its roots in the 1960s, but it wasn’t until the mid 1980s that it became the main programming paradigm used in the creation of new software. It was developed as a way to handle the rapidly increasing size and complexity of software systems and to make it easier to modify these large and complex systems over time.\n",
    "\n",
    "Up to now, some of the programs we have been writing use a procedural programming paradigm. In procedural programming the focus is on writing functions or procedures which operate on data. In object-oriented programming the focus is on the creation of objects which contain both data and functionality together. Usually, each object definition corresponds to some object or concept in the real world and the functions that operate on that object correspond to the ways real-world objects interact."
   ]
  },
  {
   "cell_type": "markdown",
   "id": "9274a628",
   "metadata": {},
   "source": [
    "## 20.2. Objects Revisited\n",
    "In Python, every value is actually an object. Whether it be a dictionary, a list, or even an integer, they are all objects. Programs manipulate those objects either by performing computation with them or by asking them to perform methods. To be more specific, we say that an object has a state and a collection of methods that it can perform. (More about methods below.) The state of an object represents those things that the object knows about itself. The state is stored in instance variables. For example, as we have seen with turtle objects, each turtle has a state consisting of the turtle’s position, its color, its heading and so on. Each turtle also has the ability to go forward, backward, or turn right or left. Individual turtles are different in that even though they are all turtles, they differ in the specific values of the individual state attributes (maybe they are in a different location or have a different heading)."
   ]
  },
  {
   "cell_type": "markdown",
   "id": "1ba84675",
   "metadata": {},
   "source": [
    "## 20.3. User Defined Classes\n",
    "We’ve already seen classes like str, int, float and list. These were defined by Python and made available for us to use. However, in many cases when we are solving problems we need to create data objects that are related to the problem we are trying to solve. We need to create our own classes.\n",
    "\n",
    "As an example, consider the concept of a mathematical point. In two dimensions, a point is two numbers (coordinates) that are treated collectively as a single object. Points are often written in parentheses with a comma separating the coordinates. For example, (0, 0) represents the origin, and (x, y) represents the point x units to the right and y units up from the origin. This (x,y) is the state of the point.\n",
    "\n",
    "Thinking about our diagram above, we could draw a point object as shown here.\n",
    "\n",
    "A point has an x and a y\n",
    "Some of the typical operations that one associates with points might be to ask the point for its x coordinate, getX, or to ask for its y coordinate, getY. You would want these types of functions available to prevent accidental changes to these instance variables since doing so would allow you to view the values without accessing them directly. You may also wish to calculate the distance of a point from the origin, or the distance of a point from another point, or find the midpoint between two points, or answer the question as to whether a point falls within a given rectangle or circle. We’ll shortly see how we can organize these together with the data.\n",
    "\n",
    "A point also has methods\n",
    "Now that we understand what a point object might look like, we can define a new class. We’ll want our points to each have an x and a y attribute, so our first class definition looks like this."
   ]
  },
  {
   "cell_type": "code",
   "execution_count": 1,
   "id": "fc9d9033",
   "metadata": {},
   "outputs": [],
   "source": [
    "class Point:\n",
    "    \"\"\" Point class for representing and manipulating x,y coordinates. \"\"\"\n",
    "\n",
    "    def __init__(self):\n",
    "        \"\"\" Create a new point at the origin \"\"\"\n",
    "        self.x = 0\n",
    "        self.y = 0"
   ]
  },
  {
   "cell_type": "markdown",
   "id": "0c5ecc35",
   "metadata": {},
   "source": [
    "Class definitions can appear anywhere in a program, but they are usually near the beginning (after the import statements). The syntax rules for a class definition are the same as for other compound statements. There is a header which begins with the keyword, class, followed by the name of the class, and ending with a colon.\n",
    "\n",
    "If the first line after the class header is a string, it becomes the docstring of the class, and will be recognized by various tools. (This is also the way docstrings work in functions.)\n",
    "\n",
    "Every class should have a method with the special name __init__. This initializer method, often referred to as the constructor, is automatically called whenever a new instance of Point is created. It gives the programmer the opportunity to set up the attributes required within the new instance by giving them their initial state values. The self parameter (you could choose any other name, but nobody ever does!) is automatically set to reference the newly created object that needs to be initialized.\n",
    "\n",
    "So let’s use our new Point class now. This next part should look a little familiar, if you remember some of the syntax for how we created instances of the Turtle class, in the chapter on Turtle graphics."
   ]
  },
  {
   "cell_type": "code",
   "execution_count": null,
   "id": "2251132f",
   "metadata": {},
   "outputs": [],
   "source": [
    "class Point:\n",
    "    \"\"\" Point class for representing and manipulating x,y coordinates. \"\"\"\n",
    "\n",
    "    def __init__(self):\n",
    "\n",
    "        self.x = 0\n",
    "        self.y = 0\n",
    "\n",
    "p = Point()         # Instantiate an object of type Point\n",
    "q = Point()         # and make a second point\n",
    "\n",
    "print(\"Nothing seems to have happened with the points\")\n"
   ]
  },
  {
   "cell_type": "markdown",
   "id": "f2223771",
   "metadata": {},
   "source": [
    "During the initialization of the objects, we created two attributes called x and y for each object, and gave them both the value 0. You will note that when you run the program, nothing happens. It turns out that this is not quite the case. In fact, two Points have been created, each having an x and y coordinate with value 0. However, because we have not asked the program to do anything with the points, we don’t see any other result.\n",
    "\n",
    "Simple object has state and methods\n",
    "The following program adds a few print statements. You can see that the output suggests that each one is a Point object. However, notice that the is operator returns False meaning that they are different objects (we will have more to say about this in a later section)."
   ]
  },
  {
   "cell_type": "code",
   "execution_count": 2,
   "id": "974f240d",
   "metadata": {},
   "outputs": [
    {
     "name": "stdout",
     "output_type": "stream",
     "text": [
      "<__main__.Point object at 0x7fc2840e0250>\n",
      "<__main__.Point object at 0x7fc2840e0520>\n",
      "False\n"
     ]
    }
   ],
   "source": [
    "class Point:\n",
    "    \"\"\" Point class for representing and manipulating x,y coordinates. \"\"\"\n",
    "\n",
    "    def __init__(self):\n",
    "\n",
    "        self.x = 0\n",
    "        self.y = 0\n",
    "\n",
    "p = Point()         # Instantiate an object of type Point\n",
    "q = Point()         # and make a second point\n",
    "\n",
    "print(p)\n",
    "print(q)\n",
    "\n",
    "print(p is q)\n"
   ]
  },
  {
   "cell_type": "markdown",
   "id": "03dba5b5",
   "metadata": {},
   "source": [
    "A function like Point that creates a new object instance is called a constructor. Every class automatically uses the name of the class as the name of the constructor function. The definition of the constructor function is done when you write the __init__ function (method) inside the class definition.\n",
    "\n",
    "It may be helpful to think of a class as a factory for making objects. The class itself isn’t an instance of a point, but it contains the machinery to make point instances. Every time you call the constructor, you’re asking the factory to make you a new object. As the object comes off the production line, its initialization method is executed to get the object properly set up with it’s factory default settings.\n",
    "\n",
    "The combined process of “make me a new object” and “get its settings initialized to the factory default settings” is called instantiation.\n",
    "\n",
    "To get a clearer understanding of what happens when instantiating a new instance, examine the previous code using CodeLens."
   ]
  },
  {
   "cell_type": "markdown",
   "id": "1b938da7",
   "metadata": {},
   "source": [
    "At Step 2 in the CodeLens execution, you can see that Point has been bound to an object representing the Point class, but there are not yet any instances. The execution of line 9, p = Point(), occurs at steps 3-5. First, at step 3, you can see that a blank instance of the class has been created, and is passed as the first (and only parameter) to the __init__ method. That method’s code is executed, with the variable self bound to that instance. At steps 4 and 5, two instance variables are filled in: x and y are both set to 0. Nothing is returned from the __init__ method, but the point object itself is returned from the call to Point(). Thus, at step 7, p is bound to the new point that was created and initialized.\n",
    "\n",
    "Skipping ahead, by the time we get to Step 14, p and q are each bound to different Point instances. Even though both have x and y instance variables set to 0, they are different objects. Thus p is q evaluates to False."
   ]
  },
  {
   "cell_type": "markdown",
   "id": "37e41dbc",
   "metadata": {},
   "source": [
    "## 20.4. Adding Parameters to the Constructor\n",
    "Our constructor so far can only create points at location (0,0). To create a point at position (7, 6) requires that we provide some additional capability for the user to pass information to the constructor. Since constructors are simply specially named functions, we can use parameters (as we’ve seen before) to provide the specific information.\n",
    "\n",
    "We can make our class constructor more generally usable by putting extra parameters into the __init__ method, as shown in this example."
   ]
  },
  {
   "cell_type": "code",
   "execution_count": 3,
   "id": "49d0acff",
   "metadata": {},
   "outputs": [],
   "source": [
    "class Point:\n",
    "    \"\"\" Point class for representing and manipulating x,y coordinates. \"\"\"\n",
    "\n",
    "    def __init__(self, initX, initY):\n",
    "\n",
    "        self.x = initX\n",
    "        self.y = initY\n",
    "\n",
    "p = Point(7,6)"
   ]
  },
  {
   "cell_type": "markdown",
   "id": "adf07f67",
   "metadata": {},
   "source": [
    "Now when we create new points, we supply the x and y coordinates as parameters. When the point is created, the values of initX and initY are assigned to the state of the object, in the instance variables x and y.\n",
    "\n",
    "This is a common thing to do in the __init__ method for a class: take in some parameters and save them as instance variables. Why is this useful? Keep in mind that the parameter variables will go away when the method is finished executing. The instance variables, however, will still be accessible anywhere that you have a handle on the object instance. This is a way of saving those initial values that are provided when the class constructor is invoked.\n",
    "\n",
    "Later on, you will see classes where the __init__ method does more than just save parameters as instance variables. For example, it might parse the contents of those variables and do some computation on them, storing the results in instance variables. It might even make an Internet connection, download some content, and store that in instance variables."
   ]
  },
  {
   "cell_type": "markdown",
   "id": "5bcec869",
   "metadata": {},
   "source": [
    "## 20.5. Adding Other Methods to a Class\n",
    "The key advantage of using a class like Point rather than something like a simple tuple (7, 6) now becomes apparent. We can add methods to the Point class that are sensible operations for points. Had we chosen to use a tuple to represent the point, we would not have this capability. Creating a class like Point brings an exceptional amount of “organizational power” to our programs, and to our thinking. We can group together the sensible operations, and the kinds of data they apply to, and each instance of the class can have its own state.\n",
    "\n",
    "A method behaves like a function but it is invoked on a specific instance. For example, with a list bound to variable L, L.append(7) calls the function append, with the list itself as the first parameter and 7 as the second parameter. Methods are accessed using dot notation. This is why L.append(7) has 2 parameters even though you may think it only has one: the list stored in the variable L is the first parameter value and 7 is the second.\n",
    "\n",
    "Let’s add two simple methods to allow a point to give us information about its state. The getX method, when invoked, will return the value of the x coordinate.\n",
    "\n",
    "The implementation of this method is straight forward since we already know how to write functions that return values. One thing to notice is that even though the getX method does not need any other parameter information to do its work, there is still one formal parameter, self. As we stated earlier, all methods defined in a class that operate on objects of that class will have self as their first parameter. Again, this serves as a reference to the object itself which in turn gives access to the state data inside the object."
   ]
  },
  {
   "cell_type": "code",
   "execution_count": 4,
   "id": "93711f0a",
   "metadata": {},
   "outputs": [
    {
     "name": "stdout",
     "output_type": "stream",
     "text": [
      "7\n",
      "6\n"
     ]
    }
   ],
   "source": [
    "class Point:\n",
    "    \"\"\" Point class for representing and manipulating x,y coordinates. \"\"\"\n",
    "\n",
    "    def __init__(self, initX, initY):\n",
    "\n",
    "        self.x = initX\n",
    "        self.y = initY\n",
    "\n",
    "    def getX(self):\n",
    "        return self.x\n",
    "\n",
    "    def getY(self):\n",
    "        return self.y\n",
    "\n",
    "\n",
    "p = Point(7,6)\n",
    "print(p.getX())\n",
    "print(p.getY())\n"
   ]
  },
  {
   "cell_type": "markdown",
   "id": "ed5e9acc",
   "metadata": {},
   "source": [
    "Note that the getX method simply returns the value of the instance variable x from the object self. In other words, the implementation of the method is to go to the state of the object itself and get the value of x. Likewise, the getY method looks almost the same.\n",
    "\n",
    "Let’s add another method, distanceFromOrigin, to see better how methods work. This method will again not need any additional information to do its work, beyond the data stored in the instance variables. It will perform a more complex task."
   ]
  },
  {
   "cell_type": "code",
   "execution_count": 5,
   "id": "dbfb8181",
   "metadata": {},
   "outputs": [
    {
     "name": "stdout",
     "output_type": "stream",
     "text": [
      "9.219544457292887\n"
     ]
    }
   ],
   "source": [
    "class Point:\n",
    "    \"\"\" Point class for representing and manipulating x,y coordinates. \"\"\"\n",
    "\n",
    "    def __init__(self, initX, initY):\n",
    "\n",
    "        self.x = initX\n",
    "        self.y = initY\n",
    "\n",
    "    def getX(self):\n",
    "        return self.x\n",
    "\n",
    "    def getY(self):\n",
    "        return self.y\n",
    "\n",
    "    def distanceFromOrigin(self):\n",
    "        return ((self.x ** 2) + (self.y ** 2)) ** 0.5\n",
    "\n",
    "\n",
    "p = Point(7,6)\n",
    "print(p.distanceFromOrigin())\n"
   ]
  },
  {
   "cell_type": "markdown",
   "id": "a5d767d1",
   "metadata": {},
   "source": [
    "Notice that the call of distanceFromOrigin does not explicitly supply an argument to match the self parameter. This is true of all method calls. The definition will always seem to have one additional parameter as compared to the invocation."
   ]
  },
  {
   "cell_type": "markdown",
   "id": "209dd349",
   "metadata": {},
   "source": [
    "## 20.6. Objects as Arguments and Parameters\n",
    "You can pass an object as an argument to a function, in the usual way.\n",
    "\n",
    "Here is a simple function called distance involving our new Point objects. The job of this function is to figure out the distance between two points."
   ]
  },
  {
   "cell_type": "code",
   "execution_count": 6,
   "id": "53ba26d9",
   "metadata": {},
   "outputs": [
    {
     "name": "stdout",
     "output_type": "stream",
     "text": [
      "5.0\n"
     ]
    }
   ],
   "source": [
    "import math\n",
    "\n",
    "class Point:\n",
    "    \"\"\" Point class for representing and manipulating x,y coordinates. \"\"\"\n",
    "\n",
    "    def __init__(self, initX, initY):\n",
    "\n",
    "        self.x = initX\n",
    "        self.y = initY\n",
    "\n",
    "    def getX(self):\n",
    "        return self.x\n",
    "\n",
    "    def getY(self):\n",
    "        return self.y\n",
    "\n",
    "    def distanceFromOrigin(self):\n",
    "        return ((self.x ** 2) + (self.y ** 2)) ** 0.5\n",
    "\n",
    "def distance(point1, point2):\n",
    "    xdiff = point2.getX()-point1.getX()\n",
    "    ydiff = point2.getY()-point1.getY()\n",
    "\n",
    "    dist = math.sqrt(xdiff**2 + ydiff**2)\n",
    "    return dist\n",
    "\n",
    "p = Point(4,3)\n",
    "q = Point(0,0)\n",
    "print(distance(p,q))"
   ]
  },
  {
   "cell_type": "markdown",
   "id": "1c7350c4",
   "metadata": {},
   "source": [
    "distance takes two points and returns the distance between them. Note that distance is not a method of the Point class. You can see this by looking at the indentation pattern. It is not inside the class definition. The other way we can know that distance is not a method of Point is that self is not included as a formal parameter. In addition, we do not invoke distance using the dot notation.\n",
    "\n",
    "We could have made distance be a method of the Point class. Then, we would have called the first parameter self, and would have invoked it using the dot notation, as in the following code. Which way to implement it is a matter of coding style. Both work correctly. Most programmers choose whether to make functions be stand-alone or methods of a class based on whether the function semantically seems to be an operation that is performed on instances of the class. In this case, because distance is really a property of a pair of points and is symmetric (the distance from a to b is the same as that from b to a) it makes more sense to have it be a standalone function and not a method. Many heated discussions have occurred between programmers about such style decisions."
   ]
  },
  {
   "cell_type": "code",
   "execution_count": 7,
   "id": "fda960a8",
   "metadata": {},
   "outputs": [
    {
     "name": "stdout",
     "output_type": "stream",
     "text": [
      "5.0\n"
     ]
    }
   ],
   "source": [
    "import math\n",
    "\n",
    "class Point:\n",
    "    \"\"\" Point class for representing and manipulating x,y coordinates. \"\"\"\n",
    "\n",
    "    def __init__(self, initX, initY):\n",
    "\n",
    "        self.x = initX\n",
    "        self.y = initY\n",
    "\n",
    "    def getX(self):\n",
    "        return self.x\n",
    "\n",
    "    def getY(self):\n",
    "        return self.y\n",
    "\n",
    "    def distanceFromOrigin(self):\n",
    "        return ((self.x ** 2) + (self.y ** 2)) ** 0.5\n",
    "\n",
    "    def distance(self, point2):\n",
    "        xdiff = point2.getX()-self.getX()\n",
    "        ydiff = point2.getY()-self.getY()\n",
    "\n",
    "        dist = math.sqrt(xdiff**2 + ydiff**2)\n",
    "        return dist\n",
    "\n",
    "p = Point(4,3)\n",
    "q = Point(0,0)\n",
    "print(p.distance(q))\n"
   ]
  },
  {
   "cell_type": "markdown",
   "id": "cbe86d83",
   "metadata": {},
   "source": [
    "## 20.7. Converting an Object to a String\n",
    "When we’re working with classes and objects, it is often necessary to print an object (that is, to print the state of an object). Consider the example below."
   ]
  },
  {
   "cell_type": "code",
   "execution_count": 8,
   "id": "6a2f3719",
   "metadata": {},
   "outputs": [
    {
     "name": "stdout",
     "output_type": "stream",
     "text": [
      "<__main__.Point object at 0x7fc2842a79a0>\n"
     ]
    }
   ],
   "source": [
    "class Point:\n",
    "    \"\"\" Point class for representing and manipulating x,y coordinates. \"\"\"\n",
    "\n",
    "    def __init__(self, initX, initY):\n",
    "\n",
    "        self.x = initX\n",
    "        self.y = initY\n",
    "\n",
    "    def getX(self):\n",
    "        return self.x\n",
    "\n",
    "    def getY(self):\n",
    "        return self.y\n",
    "\n",
    "    def distanceFromOrigin(self):\n",
    "        return ((self.x ** 2) + (self.y ** 2)) ** 0.5\n",
    "\n",
    "\n",
    "p = Point(7,6)\n",
    "print(p)\n"
   ]
  },
  {
   "cell_type": "markdown",
   "id": "117ae59f",
   "metadata": {},
   "source": [
    "The print function shown above produces a string representation of the Point p. The default functionality provided by Python tells you that p is an object of type Point. However, it does not tell you anything about the specific state of the point.\n",
    "\n",
    "We can improve on this representation if we include a special method call __str__. Notice that this method uses the same naming convention as the constructor, that is two underscores before and after the name. It is common that Python uses this naming technique for special methods.\n",
    "\n",
    "The __str__ method is responsible for returning a string representation as defined by the class creator. In other words, you as the programmer, get to choose what a Point should look like when it gets printed. In this case, we have decided that the string representation will include the values of x and y as well as some identifying text. It is required that the __str__ method create and return a string.\n",
    "\n",
    "Whatever string the __str__ method for a class returns, that is the string that will print when you put any instance of that class in a print statement. For that reason, the string that a class’s __str__ method returns should usually include values of instance variables. If a point has x value 3 and y value 4, but another point has x value 5 and y value 9, those two Point objects should probably look different when you print them, right?\n",
    "\n",
    "Take a look at the code below."
   ]
  },
  {
   "cell_type": "code",
   "execution_count": 9,
   "id": "cde75d56",
   "metadata": {},
   "outputs": [
    {
     "name": "stdout",
     "output_type": "stream",
     "text": [
      "x = 7, y = 6\n"
     ]
    }
   ],
   "source": [
    "class Point:\n",
    "    \"\"\" Point class for representing and manipulating x,y coordinates. \"\"\"\n",
    "\n",
    "    def __init__(self, initX, initY):\n",
    "\n",
    "        self.x = initX\n",
    "        self.y = initY\n",
    "\n",
    "    def getX(self):\n",
    "        return self.x\n",
    "\n",
    "    def getY(self):\n",
    "        return self.y\n",
    "\n",
    "    def distanceFromOrigin(self):\n",
    "        return ((self.x ** 2) + (self.y ** 2)) ** 0.5\n",
    "\n",
    "    def __str__(self):\n",
    "        return \"x = {}, y = {}\".format(self.x, self.y)\n",
    "\n",
    "p = Point(7,6)\n",
    "print(p)\n"
   ]
  },
  {
   "cell_type": "markdown",
   "id": "c6bbd580",
   "metadata": {},
   "source": [
    "When we run the program above you can see that the print function now shows the string that we chose.\n",
    "\n",
    "Now, you ask, don’t we already have a str type converter that can turn our object into a string? Yes we do!\n",
    "\n",
    "And doesn’t print automatically use this when printing things? Yes again!\n",
    "\n",
    "However, as we saw earlier, these automatic mechanisms do not do exactly what we want. Python provides many default implementations for methods that we as programmers will probably want to change. When a programmer changes the meaning of a method we say that we override the method. Note also that the str type converter function uses whatever __str__ method we provide."
   ]
  },
  {
   "cell_type": "markdown",
   "id": "fa6b6b2d",
   "metadata": {},
   "source": [
    "## 20.8. Instances as Return Values\n",
    "Functions and methods can return objects. This is actually nothing new since everything in Python is an object and we have been returning values for quite some time. (You can also have lists or tuples of object instances, etc.) The difference here is that we want to have the method create an object using the constructor and then return it as the value of the method.\n",
    "\n",
    "Suppose you have a point object and wish to find the midpoint halfway between it and some other target point. We would like to write a method, let’s call it halfway, which takes another Point as a parameter and returns the Point that is halfway between the point and the target point it accepts as input."
   ]
  },
  {
   "cell_type": "code",
   "execution_count": 10,
   "id": "f9ba2fb1",
   "metadata": {},
   "outputs": [
    {
     "name": "stdout",
     "output_type": "stream",
     "text": [
      "x = 4.0, y = 8.0\n",
      "4.0\n",
      "8.0\n"
     ]
    }
   ],
   "source": [
    "class Point:\n",
    "\n",
    "    def __init__(self, initX, initY):\n",
    "\n",
    "        self.x = initX\n",
    "        self.y = initY\n",
    "\n",
    "    def getX(self):\n",
    "        return self.x\n",
    "\n",
    "    def getY(self):\n",
    "        return self.y\n",
    "\n",
    "    def distanceFromOrigin(self):\n",
    "        return ((self.x ** 2) + (self.y ** 2)) ** 0.5\n",
    "\n",
    "    def __str__(self):\n",
    "        return \"x = {}, y = {}\".format(self.x, self.y)\n",
    "\n",
    "    def halfway(self, target):\n",
    "        mx = (self.x + target.x)/2\n",
    "        my = (self.y + target.y)/2\n",
    "        return Point(mx, my)\n",
    "\n",
    "p = Point(3,4)\n",
    "q = Point(5,12)\n",
    "mid = p.halfway(q)\n",
    "# note that you would have exactly the same result if you instead wrote\n",
    "# mid = q.halfway(p)\n",
    "# because they are both Point objects, and the middle is the same no matter what\n",
    "\n",
    "print(mid)\n",
    "print(mid.getX())\n",
    "print(mid.getY())\n"
   ]
  },
  {
   "cell_type": "markdown",
   "id": "6a56e1a1",
   "metadata": {},
   "source": [
    "The resulting Point, mid, has an x value of 4 and a y value of 8. We can also use any other methods on mid since it is a Point object."
   ]
  },
  {
   "cell_type": "markdown",
   "id": "38621c46",
   "metadata": {},
   "source": [
    "## 20.9. Sorting Lists of Instances\n",
    "You previously learned how to sort lists. Sorting lists of instances of a class is not fundamentally different from sorting lists of objects of any other type. There is a way to define a default sort order for instances, right in the class definition, but it requires defining a bunch of methods or one complicated method, so we won’t bother with that. Instead, you should just provide a key function as a parameter to sorted (or sort).\n",
    "\n",
    "Previously, you have seen how to provide such a function when sorting lists of other kinds of objects. For example, given a list of strings, you can sort them in ascending order of their lengths by passing a key parameter. Note that if you refer to a function by name, you give the name of the function without parentheses after it, because you want the function object itself. The sorted function will take care of calling the function, passing the current item in the list. Thus, in the example below, we write key=len and not key=len()."
   ]
  },
  {
   "cell_type": "code",
   "execution_count": 11,
   "id": "5b4dccc4",
   "metadata": {},
   "outputs": [
    {
     "name": "stdout",
     "output_type": "stream",
     "text": [
      "['Apple', 'Cherry', 'Blueberry']\n",
      "['Apple', 'Cherry', 'Blueberry']\n"
     ]
    }
   ],
   "source": [
    "L = [\"Cherry\", \"Apple\", \"Blueberry\"]\n",
    "\n",
    "print(sorted(L, key=len))\n",
    "#alternative form using lambda, if you find that easier to understand\n",
    "print(sorted(L, key= lambda x: len(x)))\n"
   ]
  },
  {
   "cell_type": "markdown",
   "id": "5bda2480",
   "metadata": {},
   "source": [
    "When each of the items in a list is an instance of a class, you need to provide a function that takes one instance as an input, and returns a number. The instances will be sorted by their numbers."
   ]
  },
  {
   "cell_type": "code",
   "execution_count": 12,
   "id": "d8952e30",
   "metadata": {},
   "outputs": [
    {
     "name": "stdout",
     "output_type": "stream",
     "text": [
      "Apple\n",
      "Cherry\n",
      "Blueberry\n"
     ]
    }
   ],
   "source": [
    "class Fruit():\n",
    "    def __init__(self, name, price):\n",
    "        self.name = name\n",
    "        self.price = price\n",
    "\n",
    "L = [Fruit(\"Cherry\", 10), Fruit(\"Apple\", 5), Fruit(\"Blueberry\", 20)]\n",
    "for f in sorted(L, key=lambda x: x.price):\n",
    "    print(f.name)\n"
   ]
  },
  {
   "cell_type": "markdown",
   "id": "e05771f9",
   "metadata": {},
   "source": [
    "Sometimes you will find it convenient to define a method for the class that does some computation on the data in an instance. In this case, our class is too simple to really illustrate that. But to simulate it, I’ve defined a method sort_priority that just returns the price that’s stored in the instance. Now, that method, sort_priority takes one instance as input and returns a number. So it is exactly the kind of function we need to provide as the key parameter for sorted. Here it can get a little confusing: to refer to that method, without actually invoking it, you can refer to Fruit.sort_priority. This is analogous to the code above that referred to len rather than invoking len()."
   ]
  },
  {
   "cell_type": "code",
   "execution_count": 13,
   "id": "fd2e7c2b",
   "metadata": {},
   "outputs": [
    {
     "name": "stdout",
     "output_type": "stream",
     "text": [
      "-----sorted by price, referencing a class method-----\n",
      "Apple\n",
      "Cherry\n",
      "Blueberry\n",
      "---- one more way to do the same thing-----\n",
      "Apple\n",
      "Cherry\n",
      "Blueberry\n"
     ]
    }
   ],
   "source": [
    "class Fruit():\n",
    "    def __init__(self, name, price):\n",
    "        self.name = name\n",
    "        self.price = price\n",
    "\n",
    "    def sort_priority(self):\n",
    "        return self.price\n",
    "\n",
    "L = [Fruit(\"Cherry\", 10), Fruit(\"Apple\", 5), Fruit(\"Blueberry\", 20)]\n",
    "print(\"-----sorted by price, referencing a class method-----\")\n",
    "for f in sorted(L, key=Fruit.sort_priority):\n",
    "    print(f.name)\n",
    "\n",
    "print(\"---- one more way to do the same thing-----\")\n",
    "for f in sorted(L, key=lambda x: x.sort_priority()):\n",
    "    print(f.name)\n"
   ]
  },
  {
   "cell_type": "markdown",
   "id": "2289e455",
   "metadata": {},
   "source": [
    "## 20.10. Class Variables and Instance Variables\n",
    "You have already seen that each instance of a class has its own namespace with its own instance variables. Two instances of the Point class each have their own instance variable x. Setting x in one instance doesn’t affect the other instance.\n",
    "\n",
    "A class can also have class variables. A class variable is set as part of the class definition.\n",
    "\n",
    "For example, consider the following version of the Point class. Here we have added a graph method that generates a string representing a little text-based graph with the Point plotted on the graph. It’s not a very pretty graph, in part because the y-axis is stretched like a rubber band, but you can get the idea from this.\n",
    "\n",
    "Note that there is an assignment to the variable printed_rep on line 4. It is not inside any method. That makes it a class variable. It is accessed in the same way as instance variables. For example, on line 16, there is a reference to self.printed_rep. If you change line 4, you have it print a different character at the x,y coordinates of the Point in the graph."
   ]
  },
  {
   "cell_type": "code",
   "execution_count": 14,
   "id": "99e7a30c",
   "metadata": {},
   "outputs": [
    {
     "name": "stdout",
     "output_type": "stream",
     "text": [
      "4\n",
      "3 *\n",
      "2\n",
      "1\n",
      "01234\n",
      "\n",
      "3\n",
      "2  *\n",
      "1\n",
      "0\n",
      "9\n",
      "8\n",
      "7\n",
      "6\n",
      "5\n",
      "4\n",
      "3\n",
      "2\n",
      "1\n",
      "01234567890123\n"
     ]
    }
   ],
   "source": [
    "class Point:\n",
    "    \"\"\" Point class for representing and manipulating x,y coordinates. \"\"\"\n",
    "\n",
    "    printed_rep = \"*\"\n",
    "\n",
    "    def __init__(self, initX, initY):\n",
    "\n",
    "        self.x = initX\n",
    "        self.y = initY\n",
    "\n",
    "    def graph(self):\n",
    "        rows = []\n",
    "        size = max(int(self.x), int(self.y)) + 2\n",
    "        for j in range(size-1) :\n",
    "            if (j+1) == int(self.y):\n",
    "                special_row = str((j+1) % 10) + (\" \"*(int(self.x) -1)) + self.printed_rep\n",
    "                rows.append(special_row)\n",
    "            else:\n",
    "                rows.append(str((j+1) % 10))\n",
    "        rows.reverse()  # put higher values of y first\n",
    "        x_axis = \"\"\n",
    "        for i in range(size):\n",
    "            x_axis += str(i % 10)\n",
    "        rows.append(x_axis)\n",
    "\n",
    "        return \"\\n\".join(rows)\n",
    "\n",
    "\n",
    "p1 = Point(2, 3)\n",
    "p2 = Point(3, 12)\n",
    "print(p1.graph())\n",
    "print()\n",
    "print(p2.graph())\n"
   ]
  },
  {
   "cell_type": "markdown",
   "id": "4272264e",
   "metadata": {},
   "source": [
    "To be able to reason about class variables and instance variables, it is helpful to know the rules that the python interpreter uses. That way, you can mentally simulate what the interpreter does.\n",
    "\n",
    "**When the interpreter sees an expression of the form <obj>.<varname>, it:**\n",
    "    \n",
    "    1. Checks if the object has an instance variable set. If so, it uses that value.\n",
    "\n",
    "    2. If it doesn’t find an instance variable, it checks whether the class has a class variable. If so it uses that value.\n",
    "\n",
    "    3. If it doesn’t find an instance or a class variable, it creates a runtime error (actually, it does one other check first, which you will learn about in the next chapter).\n",
    "\n",
    "**When the interpreter sees an assignment statement of the form <obj>.<varname> = <expr>, it:**\n",
    "\n",
    "    1. Evaluates the expression on the right-hand side to yield some python object;\n",
    "\n",
    "    2. Sets the instance variable <varname> of <obj> to be bound to that python object. Note that an assignment statement of this form never sets the class variable; it only sets the instance variable.\n",
    "\n",
    "In order to set the class variable, you use an assignment statement of the form <varname> = <expr> at the top-level in a class definition, like on line 4 in the code above to set the class variable printed_rep.\n",
    "\n",
    "**In case you are curious, method definitions also create class variables. Thus, in the code above, graph becomes a class variable that is bound to a function/method object. p1.graph() is evaluated by:**\n",
    "\n",
    "    1. looking up p1 and finding that it’s an instance of Point\n",
    "\n",
    "    2. looking for an instance variable called graph in p1, but not finding one\n",
    "\n",
    "    3. looking for a class variable called graph in p1’s class, the Point class; it finds a function/method object\n",
    "\n",
    "    4. Because of the () after the word graph, it invokes the function/method object, with the parameter self bound to the object p1 points to.\n",
    "\n",
    "Try running it in codelens and see if you can follow how it all works."
   ]
  },
  {
   "cell_type": "markdown",
   "id": "41dd653a",
   "metadata": {},
   "source": [
    "## 20.11. Thinking About Classes and Instances\n",
    "You can now imagine some reasons you may want to define a class. You have seen examples of creating types that are more complicated or specific than the ones built in to Python (like lists or strings). Turtle, with all the instance variables and methods you learned about using earlier in the semester, is a class that programmers defined which is now included in the Python language. In this chapter, we defined Point with some functionality that can make it easier to write programs that involve x,y coordinate Point instances. And shortly, you’ll see how you can define classes to represent objects in a game.\n",
    "\n",
    "You can also use self-defined classes to hold data – for example, data you get from making a request to a REST API.\n",
    "\n",
    "Before you decide to define a new class, there are a few things to keep in mind, and questions you should ask yourself:\n",
    "\n",
    "- **What is the data that you want to deal with?** (Data about a bunch of songs from iTunes? Data about a bunch of tweets from Twitter? Data about a bunch of hashtag searches on Twitter? Two numbers that represent coordinates of a point on a 2-dimensional plane?)\n",
    "\n",
    "- **What will one instance of your class represent?** In other words, which sort of new thing in your program should have fancy functionality? One song? One hashtag? One tweet? One point? The answer to this question should help you decide what to call the class you define.\n",
    "\n",
    "- **What information should each instance have as instance variables?** This is related to what an instance represents. See if you can make it into a sentence. “Each instance represents one < song > and each < song > has an < artist > and a < title > as instance variables.” Or, “Each instance represents a < Tweet > and each < Tweet > has a < user (who posted it) > and < a message content string > as instance variables.”\n",
    "\n",
    "- **What instance methods should each instance have?** What should each instance be able to do? To continue using the same examples: Maybe each song has a method that uses a lyrics API to get a long string of its lyrics. Maybe each song has a method that returns a string of its artist’s name. Or for a tweet, maybe each tweet has a method that returns the length of the tweet’s message. (Go wild!)\n",
    "\n",
    "What should the printed version of an instance look like? (This question will help you determine how to write the __str__ method.) Maybe, “Each song printed out will show the song title and the artist’s name.” or “Each Tweet printed out will show the username of the person who posted it and the message content of the tweet.”\n",
    "\n",
    "After considering those questions and making decisions about how you’re going to get started with a class definition, you can begin to define your class.\n",
    "\n",
    "Remember that a class definition, like a function definition, is a general description of what every instance of the class should have. (Every Point has an x and a y.) The class instances are specific: e.g. the Point with a specific x and y >. You might have a Point with an x value of 3 and a y value of 2, so for that particular instance of the class Point, you’d pass in 3 and 2 to the constructor, the __init__ method, like so: new_point = Point(3,2), as you saw in the last sections.\n"
   ]
  },
  {
   "cell_type": "markdown",
   "id": "3d7c768b",
   "metadata": {},
   "source": [
    "## 20.12. Testing classes\n",
    "\n",
    "To test a user-defined class, you will create test cases that check whether instances are created properly, and you will create test cases for each of the methods as functions, by invoking them on particular instances and seeing whether they produce the correct return values and side effects, especially side effects that change data stored in the instance variables. To illustrate, we will use the Point class that was used in the introduction to classes.\n",
    "\n",
    "To test whether the class constructor (the __init__) method is working correctly, create an instance and then make tests to see whether its instance variables are set correctly. Note that this is a side effect test: the constructor method’s job is to set instance variables, which is a side effect. Its return value doesn’t matter.\n",
    "\n",
    "A method like distanceFromOrigin in the Point class you saw does its work by computing a return value, so it needs to be tested with a return value test. A method like move in the Turtle class does its work by changing the contents of a mutable object (the point instance has its instance variable changed) so it needs to be tested with a side effect test."
   ]
  },
  {
   "cell_type": "code",
   "execution_count": null,
   "id": "dc9db1be",
   "metadata": {},
   "outputs": [],
   "source": []
  }
 ],
 "metadata": {
  "kernelspec": {
   "display_name": "Python 3 (ipykernel)",
   "language": "python",
   "name": "python3"
  },
  "language_info": {
   "codemirror_mode": {
    "name": "ipython",
    "version": 3
   },
   "file_extension": ".py",
   "mimetype": "text/x-python",
   "name": "python",
   "nbconvert_exporter": "python",
   "pygments_lexer": "ipython3",
   "version": "3.9.12"
  }
 },
 "nbformat": 4,
 "nbformat_minor": 5
}
